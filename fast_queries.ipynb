{
 "cells": [
  {
   "cell_type": "markdown",
   "metadata": {},
   "source": [
    "## Fast CSV Queries\n",
    "\n",
    "In this project, we will be practicing the time and space complexity analysis.  By taking both into account, we will utilize balanced amounts of pre-processing and efficient algorithm choice to speed up sorting/searching of csv data.\n"
   ]
  },
  {
   "cell_type": "markdown",
   "metadata": {},
   "source": [
    "In this project, we will use an [existing laptop price dataset from Kaggle](https://www.kaggle.com/ionaskel/laptop-prices).  We will treat this data on laptops as if we were running a laptop store."
   ]
  },
  {
   "cell_type": "markdown",
   "metadata": {},
   "source": [
    "The columns contained in the data are as follows:\n",
    "- ID: A unique identifier for the laptop.\n",
    "- Company: The name of the company that produces the laptop.\n",
    "- Product: The name of the laptop.\n",
    "- TypeName: The type of laptop.\n",
    "- Inches: The size of the screen in inches.\n",
    "- ScreenResolution: The resolution of the screen.\n",
    "- CPU: The laptop CPU.\n",
    "- RAM: The amount of RAM in the laptop.\n",
    "- Memory: The size of the hard drive.\n",
    "- GPU: The graphics card name.\n",
    "- OpSys: The name of the operating system.\n",
    "- Weight: The laptop weight.\n",
    "- Price: The price of the laptop."
   ]
  },
  {
   "cell_type": "code",
   "execution_count": 2,
   "metadata": {},
   "outputs": [
    {
     "name": "stdout",
     "output_type": "stream",
     "text": [
      "['Id', 'Company', 'Product', 'TypeName', 'Inches', 'ScreenResolution', 'Cpu', 'Ram', 'Memory', 'Gpu', 'OpSys', 'Weight', 'Price'] \n",
      "\n",
      "['6571244', 'Apple', 'MacBook Pro', 'Ultrabook', '13.3', 'IPS Panel Retina Display 2560x1600', 'Intel Core i5 2.3GHz', '8GB', '128GB SSD', 'Intel Iris Plus Graphics 640', 'macOS', '1.37kg', '1339'] \n",
      "\n",
      "['7287764', 'Apple', 'Macbook Air', 'Ultrabook', '13.3', '1440x900', 'Intel Core i5 1.8GHz', '8GB', '128GB Flash Storage', 'Intel HD Graphics 6000', 'macOS', '1.34kg', '898'] \n",
      "\n",
      "['3362737', 'HP', '250 G6', 'Notebook', '15.6', 'Full HD 1920x1080', 'Intel Core i5 7200U 2.5GHz', '8GB', '256GB SSD', 'Intel HD Graphics 620', 'No OS', '1.86kg', '575'] \n",
      "\n",
      "['9722156', 'Apple', 'MacBook Pro', 'Ultrabook', '15.4', 'IPS Panel Retina Display 2880x1800', 'Intel Core i7 2.7GHz', '16GB', '512GB SSD', 'AMD Radeon Pro 455', 'macOS', '1.83kg', '2537'] \n",
      "\n"
     ]
    }
   ],
   "source": [
    "# importing csv module\n",
    "import csv\n",
    "\n",
    "# reading dataset into jupyter\n",
    "with open('laptops.csv') as file:\n",
    "    data = list(csv.reader(file))\n",
    "    \n",
    "# printing first few rows\n",
    "for row in data[:5]:\n",
    "    print(row,'\\n')"
   ]
  },
  {
   "cell_type": "code",
   "execution_count": 9,
   "metadata": {},
   "outputs": [
    {
     "data": {
      "text/plain": [
       "['Id',\n",
       " 'Company',\n",
       " 'Product',\n",
       " 'TypeName',\n",
       " 'Inches',\n",
       " 'ScreenResolution',\n",
       " 'Cpu',\n",
       " 'Ram',\n",
       " 'Memory',\n",
       " 'Gpu',\n",
       " 'OpSys',\n",
       " 'Weight',\n",
       " 'Price']"
      ]
     },
     "execution_count": 9,
     "metadata": {},
     "output_type": "execute_result"
    }
   ],
   "source": [
    "# assigning header and rest of data to 'data'\n",
    "header = data[0]\n",
    "data = data[1:]\n",
    "\n",
    "header"
   ]
  },
  {
   "cell_type": "markdown",
   "metadata": {},
   "source": [
    "## Creating Inventory Class\n",
    "\n",
    "The first thing we will do in this project is create a new class for inventory.  We will be updating our class definition as we need throughout the project."
   ]
  },
  {
   "cell_type": "code",
   "execution_count": 10,
   "metadata": {},
   "outputs": [
    {
     "data": {
      "text/plain": [
       "['Id',\n",
       " 'Company',\n",
       " 'Product',\n",
       " 'TypeName',\n",
       " 'Inches',\n",
       " 'ScreenResolution',\n",
       " 'Cpu',\n",
       " 'Ram',\n",
       " 'Memory',\n",
       " 'Gpu',\n",
       " 'OpSys',\n",
       " 'Weight',\n",
       " 'Price']"
      ]
     },
     "execution_count": 10,
     "metadata": {},
     "output_type": "execute_result"
    }
   ],
   "source": [
    "# creating class inventory to represent our laptops in stock\n",
    "class Inventory():\n",
    "    def __init__(self, csv_filename):\n",
    "        with open('laptops.csv') as file:\n",
    "            data = list(csv.reader(file))\n",
    "            self.header = data[0]\n",
    "            self.rows = data[1:]\n",
    "            \n",
    "            # converting price column to integers\n",
    "            for row in self.rows:\n",
    "                price = row[-1]\n",
    "                row[-1] = int(price)\n",
    "                \n",
    "                \n",
    "# testing class\n",
    "start_inv = Inventory('laptops.csv')\n",
    "\n",
    "start_inv.header"
   ]
  },
  {
   "cell_type": "code",
   "execution_count": 11,
   "metadata": {},
   "outputs": [
    {
     "name": "stdout",
     "output_type": "stream",
     "text": [
      "['6571244', 'Apple', 'MacBook Pro', 'Ultrabook', '13.3', 'IPS Panel Retina Display 2560x1600', 'Intel Core i5 2.3GHz', '8GB', '128GB SSD', 'Intel Iris Plus Graphics 640', 'macOS', '1.37kg', 1339] \n",
      "\n",
      "['7287764', 'Apple', 'Macbook Air', 'Ultrabook', '13.3', '1440x900', 'Intel Core i5 1.8GHz', '8GB', '128GB Flash Storage', 'Intel HD Graphics 6000', 'macOS', '1.34kg', 898] \n",
      "\n",
      "['3362737', 'HP', '250 G6', 'Notebook', '15.6', 'Full HD 1920x1080', 'Intel Core i5 7200U 2.5GHz', '8GB', '256GB SSD', 'Intel HD Graphics 620', 'No OS', '1.86kg', 575] \n",
      "\n",
      "['9722156', 'Apple', 'MacBook Pro', 'Ultrabook', '15.4', 'IPS Panel Retina Display 2880x1800', 'Intel Core i7 2.7GHz', '16GB', '512GB SSD', 'AMD Radeon Pro 455', 'macOS', '1.83kg', 2537] \n",
      "\n",
      "['8550527', 'Apple', 'MacBook Pro', 'Ultrabook', '13.3', 'IPS Panel Retina Display 2560x1600', 'Intel Core i5 3.1GHz', '8GB', '256GB SSD', 'Intel Iris Plus Graphics 650', 'macOS', '1.37kg', 1803] \n",
      "\n"
     ]
    }
   ],
   "source": [
    "for row in start_inv.rows[:5]:\n",
    "    print(row,'\\n')"
   ]
  },
  {
   "cell_type": "code",
   "execution_count": 12,
   "metadata": {},
   "outputs": [
    {
     "data": {
      "text/plain": [
       "1303"
      ]
     },
     "execution_count": 12,
     "metadata": {},
     "output_type": "execute_result"
    }
   ],
   "source": [
    "# length of dataset\n",
    "len(start_inv.rows)"
   ]
  },
  {
   "cell_type": "markdown",
   "metadata": {},
   "source": [
    "One way that we may need to query this dataset for information is if a customer comes in with their laptop and we need an easy way to identify all of its different attributes.  \n",
    "\n",
    "We will be adding a function to our class that can search our dataset by 'Id' called get_laptop_from_id()."
   ]
  },
  {
   "cell_type": "code",
   "execution_count": 13,
   "metadata": {},
   "outputs": [
    {
     "name": "stdout",
     "output_type": "stream",
     "text": [
      "['3362737', 'HP', '250 G6', 'Notebook', '15.6', 'Full HD 1920x1080', 'Intel Core i5 7200U 2.5GHz', '8GB', '256GB SSD', 'Intel HD Graphics 620', 'No OS', '1.86kg', 575]\n",
      "\n",
      "\n",
      "None\n"
     ]
    }
   ],
   "source": [
    "import time \n",
    "\n",
    "class Inventory():\n",
    "    def __init__(self, csv_filename):\n",
    "        with open('laptops.csv') as file:\n",
    "            data = list(csv.reader(file))\n",
    "            self.header = data[0]\n",
    "            self.rows = data[1:]\n",
    "            \n",
    "            # converting price column to integers\n",
    "            for row in self.rows:\n",
    "                price = row[-1]\n",
    "                row[-1] = int(price)\n",
    "    \n",
    "    # function to search by laptop Id\n",
    "    def get_laptop_from_id(self, laptop_id):\n",
    "        for row in self.rows:\n",
    "            if row[0] == laptop_id:\n",
    "                return row\n",
    "        return None\n",
    "                \n",
    "# testing class\n",
    "start_inv = Inventory('laptops.csv')\n",
    "\n",
    "# testing function get_laptop_from_id\n",
    "\n",
    "# this id should exist \n",
    "print(start_inv.get_laptop_from_id('3362737'))\n",
    "\n",
    "print('\\n')\n",
    "\n",
    "# this id should not exist\n",
    "print(start_inv.get_laptop_from_id('3362736'))"
   ]
  },
  {
   "cell_type": "markdown",
   "metadata": {},
   "source": [
    "## Time Complexity and Algorithm Speedup\n",
    "\n",
    "We can see that our function performs as it should.  The performance could be improved however.  The time complexity of this query is O(N), where N is the number of rows contained in the dataset.\n",
    "\n",
    "By searching through a set, we can check in O(C) (constant time).  We can also achieve this with a dictionary as well, and since we need all the other laptop information return to us in the query, a dictionary is better suited for the task.\n",
    "\n",
    "We only have 1300 laptops in this dataset, so this is largely irrelevant to this particular dataset, but it is good practice for when the length grows exponentially, and in todays world, big datasets are the future of data analytics.\n",
    "\n",
    "We will start by storing each laptop Id as a key in a dictionary, with the entire row as it's value.  That way if we find the searched for \"key\" in the dictionary, it will return all information about the laptop.\n"
   ]
  },
  {
   "cell_type": "code",
   "execution_count": 14,
   "metadata": {},
   "outputs": [
    {
     "name": "stdout",
     "output_type": "stream",
     "text": [
      "['3362737', 'HP', '250 G6', 'Notebook', '15.6', 'Full HD 1920x1080', 'Intel Core i5 7200U 2.5GHz', '8GB', '256GB SSD', 'Intel HD Graphics 620', 'No OS', '1.86kg', 575]\n",
      "\n",
      "\n",
      "None\n"
     ]
    }
   ],
   "source": [
    "class Inventory():\n",
    "    def __init__(self, csv_filename):\n",
    "        with open('laptops.csv') as file:\n",
    "            data = list(csv.reader(file))\n",
    "            self.header = data[0]\n",
    "            self.rows = data[1:]\n",
    "            \n",
    "            # converting price column to integers\n",
    "            for row in self.rows:\n",
    "                price = row[-1]\n",
    "                row[-1] = int(price)\n",
    "            \n",
    "            # creating dictionary with 'Id' as key and 'row' as value\n",
    "            self.id_to_row = {}\n",
    "            for row in self.rows:\n",
    "                self.id_to_row[row[0]] = row\n",
    "    \n",
    "    # function to search by laptop Id\n",
    "    def get_laptop_from_id(self, laptop_id):\n",
    "        for row in self.rows:\n",
    "            if row[0] == laptop_id:\n",
    "                return row\n",
    "        return None\n",
    "    \n",
    "    # function to search by laptop Id faster\n",
    "    def get_laptop_from_id_fast(self, laptop_id):\n",
    "        if laptop_id in self.id_to_row:\n",
    "            return row\n",
    "        return None\n",
    "\n",
    "# testing class\n",
    "start_inv = Inventory('laptops.csv')\n",
    "    \n",
    "# testing modified search function\n",
    "\n",
    "# this id should exist \n",
    "print(start_inv.get_laptop_from_id('3362737'))\n",
    "\n",
    "print('\\n')\n",
    "\n",
    "# this id should not exist\n",
    "print(start_inv.get_laptop_from_id('3362736'))"
   ]
  },
  {
   "cell_type": "markdown",
   "metadata": {},
   "source": [
    "## Comparing Speed\n",
    "\n",
    "This new method should operate in constant time, and run much faster, at the expense of additional memory requirements to store the dictionary in RAM.  Using randomly generated id values from the random module, we will experiment to see how much faster the new search algorithm is at finding an id."
   ]
  },
  {
   "cell_type": "code",
   "execution_count": 16,
   "metadata": {},
   "outputs": [
    {
     "name": "stdout",
     "output_type": "stream",
     "text": [
      "0.84578537940979 seconds total elapsed time\n"
     ]
    }
   ],
   "source": [
    "import numpy as np\n",
    "\n",
    "\n",
    "# testing the time to search with the basic algorithm\n",
    "\n",
    "# recording start time\n",
    "start = time.time()\n",
    "\n",
    "# generating list of random strings matching the length of the id in the dataset\n",
    "a_list = [str(np.random.RandomState(42).randint(1000000, 9999999)) for _ in range(10000)]\n",
    "\n",
    "# searching for ever key in the randomized list\n",
    "for target in a_list:\n",
    "    start_inv.get_laptop_from_id(target)\n",
    "\n",
    "# recording end time\n",
    "end = time.time()\n",
    "\n",
    "total_time_basic = end-start\n",
    "print('{} seconds total elapsed time'.format(total_time_basic))"
   ]
  },
  {
   "cell_type": "code",
   "execution_count": 17,
   "metadata": {},
   "outputs": [
    {
     "name": "stdout",
     "output_type": "stream",
     "text": [
      "0.04603767395019531 seconds total elapsed time\n"
     ]
    }
   ],
   "source": [
    "# testing the time to search with the optimized algorithm\n",
    "\n",
    "# recording start time\n",
    "start = time.time()\n",
    "\n",
    "# generating list of random strings matching the length of the id in the dataset\n",
    "a_list = [str(np.random.RandomState(42).randint(1000000, 9999999)) for _ in range(10000)]\n",
    "\n",
    "# searching for ever key in the randomized list\n",
    "for target in a_list:\n",
    "    start_inv.get_laptop_from_id_fast(target)\n",
    "\n",
    "# recording end time\n",
    "end = time.time()\n",
    "\n",
    "total_time_fast = end-start\n",
    "print('{} seconds total elapsed time'.format(total_time_fast))"
   ]
  },
  {
   "cell_type": "code",
   "execution_count": 18,
   "metadata": {},
   "outputs": [
    {
     "name": "stdout",
     "output_type": "stream",
     "text": [
      "The optimized algorithm was approximately 18x as fast as the basic search\n"
     ]
    }
   ],
   "source": [
    "print(\"The optimized algorithm was approximately {}x as fast as the basic search\"\n",
    "      .format(round(total_time_basic / total_time_fast), 2))"
   ]
  },
  {
   "cell_type": "markdown",
   "metadata": {},
   "source": [
    "In our make-believe store, let's assume we wanted to offer our customers a gift card good for up to $2500 dollars, and they could choose from three laptops:\n",
    "\n",
    "- Laptop 1: $1339\n",
    "\n",
    "- Laptop 2: $898\n",
    "\n",
    "- Laptop 3: $575\n",
    "\n",
    "The catch is that the customer can only make a single purchase with the gift card, so our store doesn't have to track remaining balances.  The customer might be upset that there is no combination of two laptops that equals $2500.\n",
    "\n",
    "We will create a function that will check that given a gift card for \"D\" amount of dollars, there will be a way for them to spend the entire amount by purchasing up to two laptops.\n",
    "\n",
    "We will be modifying our class to accept this new function check_promotion_dollars()"
   ]
  },
  {
   "cell_type": "code",
   "execution_count": 19,
   "metadata": {},
   "outputs": [
    {
     "name": "stdout",
     "output_type": "stream",
     "text": [
      "True\n",
      "False\n"
     ]
    }
   ],
   "source": [
    "class Inventory():\n",
    "    def __init__(self, csv_filename):\n",
    "        with open('laptops.csv') as file:\n",
    "            data = list(csv.reader(file))\n",
    "            self.header = data[0]\n",
    "            self.rows = data[1:]\n",
    "            \n",
    "            # converting price column to integers\n",
    "            for row in self.rows:\n",
    "                price = row[-1]\n",
    "                row[-1] = int(price)\n",
    "            \n",
    "            # creating dictionary with 'Id' as key and 'row' as value\n",
    "            self.id_to_row = {}\n",
    "            for row in self.rows:\n",
    "                self.id_to_row[row[0]] = row\n",
    "    \n",
    "    # function to search by laptop Id\n",
    "    def get_laptop_from_id(self, laptop_id):\n",
    "        for row in self.rows:\n",
    "            if row[0] == laptop_id:\n",
    "                return row\n",
    "        return None\n",
    "    \n",
    "    # function to search by laptop Id faster\n",
    "    def get_laptop_from_id_fast(self, laptop_id):\n",
    "        if laptop_id in self.id_to_row:\n",
    "            return self.id_to_row[laptop_id]\n",
    "        return None\n",
    "    \n",
    "    # function to check dollar amount for gift card purchase\n",
    "    def check_promotion_dollars(self, dollars):\n",
    "        for row in self.rows:\n",
    "            price_1 = row[-1]\n",
    "            if price_1 == dollars:\n",
    "                return True\n",
    "            for row in self.rows:\n",
    "                if row[-1] + price_1 == dollars:\n",
    "                    return True\n",
    "        return False\n",
    "    \n",
    "    \n",
    "# testing class\n",
    "start_inv = Inventory('laptops.csv')\n",
    "\n",
    "# testing function\n",
    "\n",
    "# this amount should be found\n",
    "print(start_inv.check_promotion_dollars(1000))\n",
    "\n",
    "# this amount should not be found\n",
    "print(start_inv.check_promotion_dollars(442))\n",
    "\n"
   ]
  },
  {
   "cell_type": "markdown",
   "metadata": {},
   "source": [
    "## Time Complexity and Algorithm Speedup\n",
    "\n",
    "Just as before with the \"id search\" function, we will optimize the check_promotion_dollars function by first creating a set with all prices contained in it.  This way, when we look for a laptop (and a second laptop), we can perform that search in constant time by allocating the set to memory."
   ]
  },
  {
   "cell_type": "code",
   "execution_count": 20,
   "metadata": {},
   "outputs": [
    {
     "name": "stdout",
     "output_type": "stream",
     "text": [
      "True\n",
      "False\n"
     ]
    }
   ],
   "source": [
    "class Inventory():\n",
    "    def __init__(self, csv_filename):\n",
    "        with open('laptops.csv') as file:\n",
    "            data = list(csv.reader(file))\n",
    "            self.header = data[0]\n",
    "            self.rows = data[1:]\n",
    "            \n",
    "            # converting price column to integers\n",
    "            for row in self.rows:\n",
    "                price = row[-1]\n",
    "                row[-1] = int(price)\n",
    "            \n",
    "            # creating dictionary with 'Id' as key and 'row' as value\n",
    "            self.id_to_row = {}\n",
    "            for row in self.rows:\n",
    "                self.id_to_row[row[0]] = row\n",
    "            \n",
    "            # creating set to hold prices for check_promotion_dollars_fast functiom\n",
    "            self.prices = set()\n",
    "            for row in self.rows:\n",
    "                self.prices.add(row[-1])\n",
    "    \n",
    "    # function to search by laptop Id\n",
    "    def get_laptop_from_id(self, laptop_id):\n",
    "        for row in self.rows:\n",
    "            if row[0] == laptop_id:\n",
    "                return row\n",
    "        return None\n",
    "    \n",
    "    # function to search by laptop Id faster\n",
    "    def get_laptop_from_id_fast(self, laptop_id):\n",
    "        if laptop_id in self.id_to_row:\n",
    "            return self.id_to_row[laptop_id]\n",
    "        return None\n",
    "    \n",
    "    # function to check dollar amount for gift card purchase\n",
    "    def check_promotion_dollars(self, dollars):\n",
    "        for row in self.rows:\n",
    "            price_1 = row[-1]\n",
    "            if price_1 == dollars:\n",
    "                return True\n",
    "            for row in self.rows:\n",
    "                if row[-1] + price_1 == dollars:\n",
    "                    return True\n",
    "        return False\n",
    "    \n",
    "    # faster function to check dollar amount for gift card purchase\n",
    "    def check_promotion_dollars_fast(self, dollars):\n",
    "        if dollars in self.prices:\n",
    "            return True\n",
    "        for price in self.prices:\n",
    "            if (dollars - price) in self.prices:\n",
    "                return True\n",
    "        \n",
    "        return False\n",
    "\n",
    "    \n",
    "# testing class\n",
    "start_inv = Inventory('laptops.csv')\n",
    "\n",
    "# testing function\n",
    "\n",
    "# this amount should be found\n",
    "print(start_inv.check_promotion_dollars_fast(1000))\n",
    "\n",
    "# this amount should not be found\n",
    "print(start_inv.check_promotion_dollars_fast(442))\n"
   ]
  },
  {
   "cell_type": "markdown",
   "metadata": {},
   "source": [
    "## Comparing Speed\n",
    "\n",
    "This new method should operate in constant time, and run much faster, at the expense of additional memory requirements to store the set in RAM.  Using randomly generated id values from the random module, we will experiment to see how much faster the new check_promotion_dollars_fast method than the older, unoptimized method."
   ]
  },
  {
   "cell_type": "code",
   "execution_count": 21,
   "metadata": {},
   "outputs": [
    {
     "name": "stdout",
     "output_type": "stream",
     "text": [
      "0.026015281677246094 seconds total elapsed time\n"
     ]
    }
   ],
   "source": [
    "# testing the time to compute with the basic algorithm\n",
    "\n",
    "# recording start time\n",
    "start = time.time()\n",
    "\n",
    "# generating list of random strings matching the length of the id in the dataset\n",
    "a_list = [np.random.RandomState(42).randint(100, 5000) for _ in range(100)]\n",
    "\n",
    "# searching for ever key in the randomized list\n",
    "for target in a_list:\n",
    "    start_inv.check_promotion_dollars(target)\n",
    "\n",
    "# recording end time\n",
    "end = time.time()\n",
    "\n",
    "total_time_basic = end-start\n",
    "print('{} seconds total elapsed time'.format(total_time_basic))"
   ]
  },
  {
   "cell_type": "code",
   "execution_count": 22,
   "metadata": {},
   "outputs": [
    {
     "name": "stdout",
     "output_type": "stream",
     "text": [
      "0.0009996891021728516 seconds total elapsed time\n"
     ]
    }
   ],
   "source": [
    "# testing the time to search with the optimized algorithm\n",
    "\n",
    "# recording start time\n",
    "start = time.time()\n",
    "\n",
    "# generating list of random strings matching the length of the id in the dataset\n",
    "a_list = [np.random.RandomState(42).randint(100, 5000) for _ in range(100)]\n",
    "\n",
    "# searching for ever key in the randomized list\n",
    "for target in a_list:\n",
    "    start_inv.check_promotion_dollars_fast(target)\n",
    "\n",
    "# recording end time\n",
    "end = time.time()\n",
    "\n",
    "total_time_fast = end-start\n",
    "print('{} seconds total elapsed time'.format(total_time_fast))"
   ]
  },
  {
   "cell_type": "code",
   "execution_count": 23,
   "metadata": {},
   "outputs": [
    {
     "name": "stdout",
     "output_type": "stream",
     "text": [
      "The optimized algorithm was approximately 26x as fast as the basic search\n"
     ]
    }
   ],
   "source": [
    "print(\"The optimized algorithm was approximately {}x as fast as the basic search\"\n",
    "      .format(round(total_time_basic / total_time_fast), 2))"
   ]
  },
  {
   "cell_type": "markdown",
   "metadata": {},
   "source": [
    "## Finding A Laptop to Fit Any Budget\n",
    "\n",
    "We would like to use a binary search to be able to list all laptops below a certain price \"D\" so a customer can find a laptop within their price range.  We know that binary search can only be performed if the data is first sorted by price.  Our function should speedily list all laptops within the customers price range.\n",
    "\n",
    "We will implement this function by:\n",
    "\n",
    "- sorting the price data using Pythons efficient sorted() function and sorting by the price column\n",
    "\n",
    "- finding the first value great than dollar amount \"D\" using binary search\n",
    "\n",
    "- returning all laptops with a value less than the previous step"
   ]
  },
  {
   "cell_type": "code",
   "execution_count": 10,
   "metadata": {},
   "outputs": [
    {
     "name": "stdout",
     "output_type": "stream",
     "text": [
      "683\n",
      "-1\n"
     ]
    }
   ],
   "source": [
    "class Inventory():\n",
    "    def __init__(self, csv_filename):\n",
    "        with open('laptops.csv') as file:\n",
    "            data = list(csv.reader(file))\n",
    "            self.header = data[0]\n",
    "            self.rows = data[1:]\n",
    "            \n",
    "            # converting price column to integers\n",
    "            for row in self.rows:\n",
    "                price = row[-1]\n",
    "                row[-1] = int(price)\n",
    "            \n",
    "            # creating dictionary with 'Id' as key and 'row' as value\n",
    "            self.id_to_row = {}\n",
    "            for row in self.rows:\n",
    "                self.id_to_row[row[0]] = row\n",
    "            \n",
    "            # creating set to hold prices for check_promotion_dollars_fast functiom\n",
    "            self.prices = set()\n",
    "            for row in self.rows:\n",
    "                self.prices.add(row[-1])\n",
    "                \n",
    "            # creating a sorted list forour find_first_laptop_more_expensive function\n",
    "            self.rows_by_price = sorted(self.rows, key=(lambda row: row[-1]))\n",
    "    \n",
    "    # function to search by laptop Id\n",
    "    def get_laptop_from_id(self, laptop_id):\n",
    "        for row in self.rows:\n",
    "            if row[0] == laptop_id:\n",
    "                return row\n",
    "        return None\n",
    "    \n",
    "    # function to search by laptop Id faster\n",
    "    def get_laptop_from_id_fast(self, laptop_id):\n",
    "        if laptop_id in self.id_to_row:\n",
    "            return self.id_to_row[laptop_id]\n",
    "        return None\n",
    "    \n",
    "    # function to check dollar amount for gift card purchase\n",
    "    def check_promotion_dollars(self, dollars):\n",
    "        for row in self.rows:\n",
    "            price_1 = row[-1]\n",
    "            if price_1 == dollars:\n",
    "                return True\n",
    "            for row in self.rows:\n",
    "                if row[-1] + price_1 == dollars:\n",
    "                    return True\n",
    "        return False\n",
    "    \n",
    "    # faster function to check dollar amount for gift card purchase\n",
    "    def check_promotion_dollars_fast(self, dollars):\n",
    "        if dollars in self.prices:\n",
    "            return True\n",
    "        for price in self.prices:\n",
    "            if (dollars - price) in self.prices:\n",
    "                return True\n",
    "        \n",
    "        return False\n",
    "    \n",
    "    # function to locate first laptop with higher price than target_price\n",
    "    def find_first_laptop_more_expensive(self, target_price):\n",
    "        range_start = 0                                   \n",
    "        range_end = len(self.rows_by_price) - 1                       \n",
    "        while range_start < range_end:\n",
    "            range_middle = (range_end + range_start) // 2  \n",
    "            price = self.rows_by_price[range_middle][-1]\n",
    "            if price > target_price:\n",
    "                range_end = range_middle\n",
    "            else:                                          \n",
    "                range_start = range_middle + 1\n",
    "        if self.rows_by_price[range_start][-1] <= target_price:                  \n",
    "        if price != target_price:                  \n",
    "            return -1                                   \n",
    "        return range_start\n",
    "\n",
    "# testing class\n",
    "start_inv = Inventory('laptops.csv')\n",
    "\n",
    "# testing function\n",
    "\n",
    "# this amount should be found\n",
    "print(start_inv.find_first_laptop_more_expensive(1000))\n",
    "\n",
    "# this amount should not be found\n",
    "print(start_inv.find_first_laptop_more_expensive(442))\n"
   ]
  },
  {
   "cell_type": "markdown",
   "metadata": {},
   "source": [
    "So the first laptop greater than 1000 was at index 682.  Let's verify that the laptop at that index is greater than $1000 by printing out the few rows before and after it."
   ]
  },
  {
   "cell_type": "code",
   "execution_count": 15,
   "metadata": {},
   "outputs": [
    {
     "name": "stdout",
     "output_type": "stream",
     "text": [
      "['9505275', 'Dell', 'Inspiron 7579', '2 in 1 Convertible', '15.6', 'IPS Panel Full HD / Touchscreen 1920x1080', 'Intel Core i5 7200U 2.5GHz', '8GB', '256GB SSD', 'Intel HD Graphics 620', 'Windows 10', '2.191kg', 999] \n",
      "\n",
      "['6676297', 'HP', 'EliteBook 840', 'Notebook', '14', 'Full HD 1920x1080', 'Intel Core i5 6200U 2.3GHz', '4GB', '500GB HDD', 'Intel HD Graphics 520', 'Windows 10', '1.54kg', 1000] \n",
      "\n",
      "['8747948', 'Lenovo', 'ThinkPad T460', 'Notebook', '14', '1366x768', 'Intel Core i5 6200U 2.3GHz', '4GB', '508GB Hybrid', 'Intel HD Graphics 520', 'Windows 7', '1.70kg', 1002] \n",
      "\n",
      "['5550925', 'Dell', 'Latitude 5580', 'Notebook', '15.6', '1366x768', 'Intel Core i5 7300U 2.6GHz', '8GB', '500GB HDD', 'Intel HD Graphics 620', 'Windows 10', '1.9kg', 1008] \n",
      "\n"
     ]
    }
   ],
   "source": [
    "for row in start_inv.rows_by_price[681:685]:\n",
    "    print(row, '\\n')"
   ]
  }
 ],
 "metadata": {
  "kernelspec": {
   "display_name": "Python 3",
   "language": "python",
   "name": "python3"
  }
 },
 "nbformat": 4,
 "nbformat_minor": 2
}
